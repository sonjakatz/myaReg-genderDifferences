{
 "cells": [
  {
   "cell_type": "markdown",
   "metadata": {},
   "source": [
    "# Analyse prediction scores & calculate 95%CI\n",
    "\n",
    "over all bootstrapping iterations \n",
    "\n",
    "- metrics assessed:\n",
    "    - accuracy\n",
    "    - precision\n",
    "    - recall\n",
    "    - f1\n",
    "    - brier\n",
    "    - roc-auc\n",
    "    - precision-recall\n",
    "\n",
    "- calibration curve"
   ]
  },
  {
   "cell_type": "code",
   "execution_count": 1,
   "metadata": {},
   "outputs": [
    {
     "name": "stderr",
     "output_type": "stream",
     "text": [
      "IProgress not found. Please update jupyter and ipywidgets. See https://ipywidgets.readthedocs.io/en/stable/user_install.html\n"
     ]
    }
   ],
   "source": [
    "PATH = \"/home/WUR/katz001/PROJECTS/myaReg-genderDifferences\"\n",
    "\n",
    "import os\n",
    "import numpy as np\n",
    "import json\n",
    "import pandas as pd\n",
    "import sys \n",
    "import errno  \n",
    "import seaborn as sns\n",
    "sys.path.append(f\"{PATH}/scripts\")\n",
    "\n",
    "import matplotlib.pyplot as plt \n",
    "from func_imputeScale import pipe_imputation_scaling, pipe_supervisedSelector\n",
    "from func_preprocess import read_data, subset_wo_missigness, remove_NA, parseVariables, clean_data, impute_scale \n",
    "import shap\n",
    "import pickle\n",
    "\n",
    "from sklearn.pipeline import Pipeline\n",
    "\n",
    "from sklearn.metrics import balanced_accuracy_score, precision_score, recall_score, f1_score, brier_score_loss, roc_auc_score, average_precision_score\n",
    "from sklearn.calibration import calibration_curve, CalibrationDisplay"
   ]
  },
  {
   "cell_type": "code",
   "execution_count": 2,
   "metadata": {},
   "outputs": [
    {
     "name": "stdout",
     "output_type": "stream",
     "text": [
      "\n",
      "\n",
      "LOADING DATA\n",
      "(1814, 39)\n",
      "['age_erstmanifestation', 'Diagnosedauer', 'scoreadl_neu', 'seelischesbefinden_neu', 'chronicfatigue_normalised', 'autoimmunerkrankungen_rbzu', 'thymektomie_gr']\n"
     ]
    }
   ],
   "source": [
    "### Read dataset and split\n",
    "''' \n",
    "Prepare data --> change here for different setups!\n",
    "'''\n",
    "target = \"gender\"\n",
    "percentBoruta = 100\n",
    "n_iter = 300\n",
    "\n",
    "varSet = \"fullRegistry\"\n",
    "varFolder = \"boruta\"\n",
    "vars = f\"{target}_bootstrapped_iterativeBoruta_{percentBoruta}perc\"    \n",
    "\n",
    "# varSet = \"histologie_subgroup\"\n",
    "# varFolder = \"manual\"\n",
    "# vars = \"onlyHisto\"\n",
    "\n",
    "''' \n",
    "Select features\n",
    "'''\n",
    "\n",
    "varPath = f\"{PATH}/results/20_featureSelection/{varSet}/{varFolder}/{vars}.txt\"\n",
    "sel_variables = pd.read_csv(varPath, header=None)[0].tolist()\n",
    "\n",
    "''' \n",
    "Define paths\n",
    "'''\n",
    "resultsPath = f\"{PATH}/results/30_internalValidation/{varSet}/{vars}\"\n",
    "folderFigures = f\"{PATH}/figures/30_internalValidation/{varSet}/{vars}\"\n",
    "figPublicationPath = f'{PATH}/figures/publication/{varSet}'\n",
    "os.makedirs(figPublicationPath, exist_ok=True)\n",
    "\n",
    "''' \n",
    "Split data\n",
    "'''\n",
    "data = read_data(PATH,FILENAME=f\"{varSet}\")\n",
    "X = data.drop(target, axis=1)\n",
    "y = data[target]\n",
    "\n",
    "print(X.shape)\n",
    "print(sel_variables)"
   ]
  },
  {
   "cell_type": "code",
   "execution_count": 3,
   "metadata": {},
   "outputs": [],
   "source": [
    "''' Load predProba'''\n",
    "model = 'rfc'\n",
    "with open(f'{resultsPath}/bootstrap_{model}_n{n_iter}_predProba.pickle', 'rb') as f:\n",
    "    dic_proba = pickle.load(f)\n",
    "data = pd.DataFrame.from_dict(dic_proba, orient=\"index\").sort_index().T"
   ]
  },
  {
   "cell_type": "code",
   "execution_count": 4,
   "metadata": {},
   "outputs": [],
   "source": [
    "dic_performanceScores = {\n",
    "    \"acc\":np.array([]),\n",
    "    \"prec\":np.array([]),\n",
    "    \"recall\":np.array([]),\n",
    "    \"f1-score\":np.array([]),\n",
    "    \"brier\":np.array([]),\n",
    "    \"roc_auc\":np.array([]),\n",
    "    \"pr\":np.array([]),\n",
    "}\n",
    "for run in range(data.shape[1]):\n",
    "    predproba = data[run][data[run].notna()]\n",
    "    pred = predproba.copy()\n",
    "    pred[predproba < 0.5] = 0\n",
    "    pred[predproba >= 0.5] = 1\n",
    "    tru = y.loc[predproba.index]   \n",
    "    \n",
    "    ## Accuracy\n",
    "    dic_performanceScores[\"acc\"] = np.append(dic_performanceScores[\"acc\"],balanced_accuracy_score(tru, pred))\n",
    "    ## Precision\n",
    "    dic_performanceScores[\"prec\"] = np.append(dic_performanceScores[\"prec\"],precision_score(tru, pred))\n",
    "    ## Recall\n",
    "    dic_performanceScores[\"recall\"] = np.append(dic_performanceScores[\"recall\"],recall_score(tru, pred))\n",
    "    # F1-score\n",
    "    dic_performanceScores[\"f1-score\"] = np.append(dic_performanceScores[\"f1-score\"],f1_score(tru, pred))\n",
    "    ## Brier\n",
    "    dic_performanceScores[\"brier\"] = np.append(dic_performanceScores[\"brier\"],brier_score_loss(tru, predproba))\n",
    "    ## ROC AUC\n",
    "    dic_performanceScores[\"roc_auc\"] = np.append(dic_performanceScores[\"roc_auc\"],roc_auc_score(tru, predproba))\n",
    "    ## PR\n",
    "    dic_performanceScores[\"pr\"] = np.append(dic_performanceScores[\"pr\"],average_precision_score(tru, predproba))\n",
    "\n",
    "df_scores = pd.DataFrame.from_dict(dic_performanceScores)\n",
    "\n",
    "\"\"\" \n",
    "Save\n",
    "\"\"\"\n",
    "df_scores.to_csv(f\"{resultsPath}/summary_scores.csv\")\n",
    "\n"
   ]
  },
  {
   "cell_type": "markdown",
   "metadata": {},
   "source": [
    "# Calculate CI"
   ]
  },
  {
   "cell_type": "code",
   "execution_count": 5,
   "metadata": {},
   "outputs": [],
   "source": [
    "\"\"\" \n",
    "Calculate confidence intervals \n",
    "\"\"\"\n",
    "df_ci = pd.DataFrame()\n",
    "for col in df_scores.columns:\n",
    "    df_ci[col] = np.array([np.mean(df_scores[col]),np.percentile(df_scores[col], 2.5), np.percentile(df_scores[col], 97.5)])\n",
    "df_ci.index = [\"mean\", \"lower_CI\", \"upper_CI\"]\n",
    "\n",
    "#### Save to file\n",
    "df_ci.to_csv(f\"{resultsPath}/bootstrap_CI_95%.csv\")"
   ]
  },
  {
   "cell_type": "code",
   "execution_count": 6,
   "metadata": {},
   "outputs": [
    {
     "data": {
      "text/plain": [
       "<AxesSubplot:>"
      ]
     },
     "execution_count": 6,
     "metadata": {},
     "output_type": "execute_result"
    },
    {
     "data": {
      "image/png": "[encoded data removed]",
      "text/plain": [
       "<Figure size 640x480 with 1 Axes>"
      ]
     },
     "metadata": {},
     "output_type": "display_data"
    }
   ],
   "source": [
    "fig, ax = plt.subplots()\n",
    "df_tmp = df_scores.copy()\n",
    "sns.boxplot(data=df_tmp)\n",
    "#ax.set_ylim(0.5, 1)"
   ]
  },
  {
   "cell_type": "code",
   "execution_count": 7,
   "metadata": {},
   "outputs": [
    {
     "name": "stdout",
     "output_type": "stream",
     "text": [
      "acc\n",
      "0.666 (95%CI 0.635, 0.699)\n",
      "0.666 (0.635, 0.699)\n",
      "\n",
      "\n",
      "prec\n",
      "0.701 (95%CI 0.667, 0.737)\n",
      "0.701 (0.667, 0.737)\n",
      "\n",
      "\n",
      "recall\n",
      "0.730 (95%CI 0.672, 0.791)\n",
      "0.730 (0.672, 0.791)\n",
      "\n",
      "\n",
      "f1-score\n",
      "0.715 (95%CI 0.681, 0.751)\n",
      "0.715 (0.681, 0.751)\n",
      "\n",
      "\n",
      "brier\n",
      "0.207 (95%CI 0.195, 0.221)\n",
      "0.207 (0.195, 0.221)\n",
      "\n",
      "\n",
      "roc_auc\n",
      "0.735 (95%CI 0.699, 0.770)\n",
      "0.735 (0.699, 0.770)\n",
      "\n",
      "\n",
      "pr\n",
      "0.774 (95%CI 0.739, 0.810)\n",
      "0.774 (0.739, 0.810)\n",
      "\n",
      "\n"
     ]
    }
   ],
   "source": [
    "for i, col in enumerate(df_ci.columns):\n",
    "    print(col)\n",
    "    print(\"%.3f\" % df_ci.iloc[0, i], \"(95%CI\", \"%.3f,\" % df_ci.iloc[1, i], \"%.3f)\" % df_ci.iloc[2, i])\n",
    "    print(\"%.3f\" % df_ci.iloc[0, i],  \"(%.3f,\" % df_ci.iloc[1, i], \"%.3f)\" % df_ci.iloc[2, i])    \n",
    "    print(\"\\n\")"
   ]
  },
  {
   "cell_type": "markdown",
   "metadata": {},
   "source": [
    "# Calibration curve"
   ]
  },
  {
   "cell_type": "code",
   "execution_count": 8,
   "metadata": {},
   "outputs": [],
   "source": [
    "''' Load predProba'''\n",
    "model = 'rfc'\n",
    "with open(f'{resultsPath}/bootstrap_{model}_n{n_iter}_predProba.pickle', 'rb') as f:\n",
    "    dic_proba = pickle.load(f)\n",
    "data = pd.DataFrame.from_dict(dic_proba, orient=\"index\").sort_index().T"
   ]
  },
  {
   "cell_type": "code",
   "execution_count": 9,
   "metadata": {},
   "outputs": [],
   "source": [
    "data = data.mean(axis=1).sort_index()\n",
    "tru = y.loc[data.index] "
   ]
  },
  {
   "cell_type": "code",
   "execution_count": 10,
   "metadata": {},
   "outputs": [
    {
     "data": {
      "image/png": "[encoded data removed]",
      "text/plain": [
       "<Figure size 500x500 with 1 Axes>"
      ]
     },
     "metadata": {},
     "output_type": "display_data"
    }
   ],
   "source": [
    "from sklearn.calibration import calibration_curve, CalibrationDisplay\n",
    "\n",
    "\n",
    "sns.set_theme(style=\"whitegrid\", font_scale=1.2)\n",
    "fig, ax = plt.subplots(1,1,figsize=(5,5))\n",
    "prob_true, prob_pred = calibration_curve(tru, data, n_bins=10,strategy=\"quantile\")\n",
    "\n",
    "CalibrationDisplay(prob_true, prob_pred, data).plot(ax=ax, c=\"tab:blue\")\n",
    "plt.tight_layout()\n",
    "fig.savefig(f\"{figPublicationPath}/calibrationCurve_development.png\", dpi=300)"
   ]
  },
  {
   "cell_type": "code",
   "execution_count": 11,
   "metadata": {},
   "outputs": [
    {
     "data": {
      "text/plain": [
       "'/home/WUR/katz001/PROJECTS/myaReg-genderDifferences/results/30_internalValidation/fullRegistry/gender_bootstrapped_iterativeBoruta_100perc'"
      ]
     },
     "execution_count": 11,
     "metadata": {},
     "output_type": "execute_result"
    }
   ],
   "source": [
    "resultsPath"
   ]
  },
  {
   "cell_type": "code",
   "execution_count": null,
   "metadata": {},
   "outputs": [],
   "source": []
  }
 ],
 "metadata": {
  "kernelspec": {
   "display_name": "env_permit",
   "language": "python",
   "name": "python3"
  },
  "language_info": {
   "codemirror_mode": {
    "name": "ipython",
    "version": 3
   },
   "file_extension": ".py",
   "mimetype": "text/x-python",
   "name": "python",
   "nbconvert_exporter": "python",
   "pygments_lexer": "ipython3",
   "version": "3.10.13"
  },
  "orig_nbformat": 4
 },
 "nbformat": 4,
 "nbformat_minor": 2
}
