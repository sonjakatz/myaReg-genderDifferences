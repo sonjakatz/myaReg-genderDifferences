{
 "cells": [
  {
   "cell_type": "code",
   "execution_count": 24,
   "metadata": {},
   "outputs": [],
   "source": [
    "import pandas as pd\n",
    "import numpy as np\n",
    "import json\n",
    "import sys\n",
    "sys.path.append(\"../\")\n",
    "PATH = \"../..\"\n",
    "\n",
    "from sklearn.preprocessing import MinMaxScaler\n",
    "scaler = MinMaxScaler(feature_range=(0,1))"
   ]
  },
  {
   "cell_type": "code",
   "execution_count": 25,
   "metadata": {},
   "outputs": [],
   "source": [
    "''' Load data '''\n",
    "\n",
    "with open(f\"{PATH}/data/data_dtypes.json\", \"r\") as f:\n",
    "    dtypes = json.load(f)"
   ]
  },
  {
   "cell_type": "code",
   "execution_count": 26,
   "metadata": {},
   "outputs": [
    {
     "name": "stdout",
     "output_type": "stream",
     "text": [
      "(1814, 40)\n"
     ]
    }
   ],
   "source": [
    "''' \n",
    "all variables dataset: \n",
    "\n",
    "- normalise chronic fatigue to a range of 0-1 & save dataset\n",
    "'''\n",
    "\n",
    "df_all = pd.read_csv(f\"{PATH}/data/fullRegistry.csv\", index_col=0, dtype=dtypes)\n",
    "cf_normalised = scaler.fit_transform(df_all.loc[:,\"chronicfatigue_neu\":\"chronicfatigue_neu\"])\n",
    "\n",
    "df_all[\"chronicfatigue_normalised\"] = cf_normalised\n",
    "\n",
    "print(df_all.shape)\n",
    "\n",
    "df_all.to_csv(f\"{PATH}/data/fullRegistry.csv\")"
   ]
  },
  {
   "cell_type": "code",
   "execution_count": 27,
   "metadata": {},
   "outputs": [
    {
     "name": "stdout",
     "output_type": "stream",
     "text": [
      "(618, 40)\n"
     ]
    }
   ],
   "source": [
    "'''\n",
    "histologie subgroup \n",
    "\n",
    "- remove variable \"histologie\" - cause obsolete!\n",
    "'''\n",
    "df_hist = pd.read_csv(f\"{PATH}/data/histologie_subgroup.csv\", index_col=0, dtype=dtypes)\n",
    "# #### Paolo left \"histologie\" inside - remove cause obsolete!\n",
    "# df_hist = df_hist.drop([\"histologie_sprb\"], axis=1)\n",
    "# df_hist.to_csv(f\"{PATH}/data/histologie_subgroup.csv\")\n",
    "\n",
    "print(df_hist.shape)\n"
   ]
  },
  {
   "cell_type": "code",
   "execution_count": 32,
   "metadata": {},
   "outputs": [
    {
     "name": "stdout",
     "output_type": "stream",
     "text": [
      "(1814, 17)\n"
     ]
    }
   ],
   "source": [
    "''' \n",
    "natural variables\n",
    "\n",
    "- remove variable \"histologie\" - cause obsolete!\n",
    "- normalise chronic fatigue to a range of 0-1 & save dataset\n",
    "'''\n",
    "df_natural = pd.read_csv(f\"{PATH}/data/natural.csv\", index_col=0, dtype=dtypes)\n",
    "\n",
    "# ### Paolo forgot the \"gender\" variable here - fix that!\n",
    "# df_natural = pd.concat([df_natural, df_all[\"gender\"]], axis=1)\n",
    "# df_natural.to_csv(f\"{PATH}/data/natural_variables.csv\")\n",
    "\n",
    "cf_normalised = scaler.fit_transform(df_natural.loc[:,\"chronicfatigue_neu\":\"chronicfatigue_neu\"])\n",
    "df_natural[\"chronicfatigue_normalised\"] = cf_normalised\n",
    "\n",
    "#df_natural.to_csv(f\"{PATH}/data/natural.csv\")"
   ]
  },
  {
   "cell_type": "markdown",
   "metadata": {},
   "source": [
    "## Old: Inverse gender (1=female, 0=male)"
   ]
  },
  {
   "cell_type": "code",
   "execution_count": 29,
   "metadata": {},
   "outputs": [],
   "source": [
    "# dic_gender = {1:0, \n",
    "#               0:1}\n",
    "\n",
    "# data[\"gender\"] = data[\"gender\"].replace(dic_gender)\n",
    "\n",
    "# data.to_csv(f\"{PATH}/data/all_data_edited_v3_mgfaRecoded_inverse.csv\")"
   ]
  },
  {
   "cell_type": "code",
   "execution_count": 30,
   "metadata": {},
   "outputs": [],
   "source": [
    "#data[\"gender\"].value_counts()"
   ]
  },
  {
   "cell_type": "code",
   "execution_count": null,
   "metadata": {},
   "outputs": [],
   "source": []
  }
 ],
 "metadata": {
  "kernelspec": {
   "display_name": "env_myaReg",
   "language": "python",
   "name": "python3"
  },
  "language_info": {
   "codemirror_mode": {
    "name": "ipython",
    "version": 3
   },
   "file_extension": ".py",
   "mimetype": "text/x-python",
   "name": "python",
   "nbconvert_exporter": "python",
   "pygments_lexer": "ipython3",
   "version": "3.11.8"
  }
 },
 "nbformat": 4,
 "nbformat_minor": 2
}
