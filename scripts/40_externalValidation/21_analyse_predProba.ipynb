{
 "cells": [
  {
   "cell_type": "markdown",
   "metadata": {},
   "source": [
    "# Analyse prediction scores & calculate 95%CI\n",
    "\n",
    "over all bootstrapping iterations \n",
    "\n",
    "- metrics assessed:\n",
    "    - accuracy\n",
    "    - precision\n",
    "    - recall\n",
    "    - f1\n",
    "    - brier\n",
    "    - roc-auc\n",
    "    - precision-recall"
   ]
  },
  {
   "cell_type": "code",
   "execution_count": 1,
   "metadata": {},
   "outputs": [],
   "source": [
    "PATH = \"/home/WUR/katz001/PROJECTS/myaReg-genderDifferences\"\n",
    "\n",
    "import os\n",
    "import numpy as np\n",
    "import json\n",
    "import pandas as pd\n",
    "import sys \n",
    "import errno  \n",
    "import seaborn as sns\n",
    "sys.path.append(f\"{PATH}/scripts\")\n",
    "\n",
    "import matplotlib.pyplot as plt \n",
    "import pickle\n",
    "\n",
    "from sklearn.metrics import balanced_accuracy_score, precision_score, recall_score, f1_score, brier_score_loss, roc_auc_score, average_precision_score"
   ]
  },
  {
   "cell_type": "code",
   "execution_count": 9,
   "metadata": {},
   "outputs": [],
   "source": [
    "### Read dataset and split\n",
    "''' \n",
    "Prepare data --> change here for different setups!\n",
    "'''\n",
    "target = \"gender\"\n",
    "n_iter = 300\n",
    "\n",
    "\n",
    "dataset = \"natural\"\n",
    "percentBoruta = 100\n",
    "varFolder = \"boruta\"\n",
    "vars = f\"{target}_bootstrapped_iterativeBoruta_{percentBoruta}perc\"\n",
    "\n",
    "''' \n",
    "Select features\n",
    "'''\n",
    "\n",
    "varPath = f\"{PATH}/results/20_featureSelection/{dataset}/{varFolder}/{vars}.txt\"\n",
    "sel_variables = pd.read_csv(varPath, header=None)[0].tolist()\n",
    "\n",
    "\n",
    "''' \n",
    "Define paths\n",
    "'''\n",
    "folderFigures = f\"{PATH}/figures/40_externalValidation/{dataset}/{vars}\"\n",
    "resultsPath = f\"{PATH}/results/40_externalValidation/{dataset}\"\n",
    "\n",
    "\n",
    "dataPath = f\"{PATH}/data/validation/\"\n",
    "modelPath = f\"{PATH}/results/30_internalValidation/{dataset}/{vars}\"\n",
    "\n",
    "''' \n",
    "Variables\n",
    "'''\n",
    "with open(f\"{PATH}/data/validation/discovery_validation_variables_translation.json\", \"r\") as f: varTranslation = json.load(f)\n",
    "dutch_varTranslation = {v: k for k, v in varTranslation.items()}\n",
    "\n",
    "''' \n",
    "Read validation data\n",
    "'''\n",
    "with open(f\"{PATH}/data/validation/validation_dtypes.json\", \"r\") as f:\n",
    "    dtypes = json.load(f)\n",
    "\n",
    "data = pd.read_csv(f\"{dataPath}/dutch_MG_patients_V2_recoded.csv\", index_col=0, dtype=dtypes)\n",
    "tmp = data.select_dtypes(include=[\"float32\"]).columns \n",
    "data[tmp] = data[tmp].astype(pd.Int64Dtype())\n",
    "\n",
    "\n",
    "''' Only parse variables needed for model '''\n",
    "variables = pd.read_csv(f\"{PATH}/results/20_featureSelection/{dataset}/{varFolder}/{vars}.txt\", \n",
    "                       header=None)[0].tolist()\n",
    "variables.append(\"gender\")\n",
    "variables_dutch = [varTranslation[ele] for ele in variables]\n",
    "data = data.loc[:,variables_dutch]\n",
    "\n",
    "''' translate varnames to German registry to fit models! '''\n",
    "data.columns = [dutch_varTranslation[ele] for ele in data.columns]\n",
    "\n",
    "\n",
    "''' \n",
    "Split\n",
    "'''\n",
    "X_val = data.drop(target, axis=1)\n",
    "y_val = data[target]"
   ]
  },
  {
   "cell_type": "code",
   "execution_count": 10,
   "metadata": {},
   "outputs": [],
   "source": [
    "''' Load predProba'''\n",
    "model = 'rfc'\n",
    "with open(f'{resultsPath}/bootstrap_validation_n{n_iter}_predProba.pickle', 'rb') as f:\n",
    "    dic_proba = pickle.load(f)\n",
    "data = pd.DataFrame.from_dict(dic_proba, orient=\"index\").sort_index().T"
   ]
  },
  {
   "cell_type": "code",
   "execution_count": 11,
   "metadata": {},
   "outputs": [],
   "source": [
    "dic_performanceScores = {\n",
    "    \"acc\":np.array([]),\n",
    "    \"prec\":np.array([]),\n",
    "    \"recall\":np.array([]),\n",
    "    \"f1-score\":np.array([]),\n",
    "    \"brier\":np.array([]),\n",
    "    \"roc_auc\":np.array([]),\n",
    "    \"pr\":np.array([]),\n",
    "}\n",
    "for run in range(data.shape[1]):\n",
    "    predproba = data[run][data[run].notna()]\n",
    "    pred = predproba.copy()\n",
    "    pred[predproba < 0.5] = 0\n",
    "    pred[predproba >= 0.5] = 1\n",
    "    tru = y_val.loc[predproba.index]   \n",
    "    \n",
    "    ## Accuracy\n",
    "    dic_performanceScores[\"acc\"] = np.append(dic_performanceScores[\"acc\"],balanced_accuracy_score(tru, pred))\n",
    "    ## Precision\n",
    "    dic_performanceScores[\"prec\"] = np.append(dic_performanceScores[\"prec\"],precision_score(tru, pred))\n",
    "    ## Recall\n",
    "    dic_performanceScores[\"recall\"] = np.append(dic_performanceScores[\"recall\"],recall_score(tru, pred))\n",
    "    # F1-score\n",
    "    dic_performanceScores[\"f1-score\"] = np.append(dic_performanceScores[\"f1-score\"],f1_score(tru, pred))\n",
    "    ## Brier\n",
    "    dic_performanceScores[\"brier\"] = np.append(dic_performanceScores[\"brier\"],brier_score_loss(tru, predproba))\n",
    "    ## ROC AUC\n",
    "    dic_performanceScores[\"roc_auc\"] = np.append(dic_performanceScores[\"roc_auc\"],roc_auc_score(tru, predproba))\n",
    "    ## PR\n",
    "    dic_performanceScores[\"pr\"] = np.append(dic_performanceScores[\"pr\"],average_precision_score(tru, predproba))\n",
    "\n",
    "df_scores = pd.DataFrame.from_dict(dic_performanceScores)\n",
    "\n",
    "\"\"\" \n",
    "Save\n",
    "\"\"\"\n",
    "df_scores.to_csv(f\"{resultsPath}/summary_scores.csv\")\n",
    "\n"
   ]
  },
  {
   "cell_type": "markdown",
   "metadata": {},
   "source": [
    "# Calculate CI"
   ]
  },
  {
   "cell_type": "code",
   "execution_count": 12,
   "metadata": {},
   "outputs": [],
   "source": [
    "\"\"\" \n",
    "Calculate confidence intervals \n",
    "\"\"\"\n",
    "df_ci = pd.DataFrame()\n",
    "for col in df_scores.columns:\n",
    "    df_ci[col] = np.array([np.mean(df_scores[col]),np.percentile(df_scores[col], 2.5), np.percentile(df_scores[col], 97.5)])\n",
    "df_ci.index = [\"mean\", \"lower_CI\", \"upper_CI\"]\n",
    "\n",
    "#### Save to file\n",
    "df_ci.to_csv(f\"{resultsPath}/bootstrap_CI_95%.csv\")"
   ]
  },
  {
   "cell_type": "code",
   "execution_count": 13,
   "metadata": {},
   "outputs": [
    {
     "data": {
      "text/plain": [
       "<AxesSubplot:>"
      ]
     },
     "execution_count": 13,
     "metadata": {},
     "output_type": "execute_result"
    },
    {
     "data": {
      "image/png": "[encoded data removed]",
      "text/plain": [
       "<Figure size 640x480 with 1 Axes>"
      ]
     },
     "metadata": {},
     "output_type": "display_data"
    }
   ],
   "source": [
    "fig, ax = plt.subplots()\n",
    "df_tmp = df_scores.copy()\n",
    "sns.boxplot(data=df_tmp)\n",
    "#ax.set_ylim(0.5, 1)"
   ]
  },
  {
   "cell_type": "code",
   "execution_count": 14,
   "metadata": {},
   "outputs": [
    {
     "name": "stdout",
     "output_type": "stream",
     "text": [
      "\n",
      "\n",
      "\n",
      " natural \n",
      "\n",
      "\n",
      "\n",
      "acc\n",
      "0.669 (95%CI 0.634, 0.701)\n",
      "0.669 (0.634, 0.701)\n",
      "\n",
      "\n",
      "prec\n",
      "0.699 (95%CI 0.660, 0.736)\n",
      "0.699 (0.660, 0.736)\n",
      "\n",
      "\n",
      "recall\n",
      "0.655 (95%CI 0.606, 0.702)\n",
      "0.655 (0.606, 0.702)\n",
      "\n",
      "\n",
      "f1-score\n",
      "0.676 (95%CI 0.639, 0.714)\n",
      "0.676 (0.639, 0.714)\n",
      "\n",
      "\n",
      "brier\n",
      "0.217 (95%CI 0.202, 0.231)\n",
      "0.217 (0.202, 0.231)\n",
      "\n",
      "\n",
      "roc_auc\n",
      "0.711 (95%CI 0.674, 0.749)\n",
      "0.711 (0.674, 0.749)\n",
      "\n",
      "\n",
      "pr\n",
      "0.723 (95%CI 0.679, 0.765)\n",
      "0.723 (0.679, 0.765)\n",
      "\n",
      "\n"
     ]
    }
   ],
   "source": [
    "print(\"\\n\\n\\n\",dataset, \"\\n\\n\\n\")\n",
    "for i, col in enumerate(df_ci.columns):\n",
    "    print(col)\n",
    "    print(\"%.3f\" % df_ci.iloc[0, i], \"(95%CI\", \"%.3f,\" % df_ci.iloc[1, i], \"%.3f)\" % df_ci.iloc[2, i])\n",
    "    print(\"%.3f\" % df_ci.iloc[0, i], \"(%.3f,\" % df_ci.iloc[1, i], \"%.3f)\" % df_ci.iloc[2, i])\n",
    "    print(\"\\n\")"
   ]
  },
  {
   "cell_type": "code",
   "execution_count": null,
   "metadata": {},
   "outputs": [],
   "source": []
  },
  {
   "cell_type": "code",
   "execution_count": null,
   "metadata": {},
   "outputs": [],
   "source": []
  }
 ],
 "metadata": {
  "kernelspec": {
   "display_name": "env_permit",
   "language": "python",
   "name": "python3"
  },
  "language_info": {
   "codemirror_mode": {
    "name": "ipython",
    "version": 3
   },
   "file_extension": ".py",
   "mimetype": "text/x-python",
   "name": "python",
   "nbconvert_exporter": "python",
   "pygments_lexer": "ipython3",
   "version": "3.10.13"
  },
  "orig_nbformat": 4
 },
 "nbformat": 4,
 "nbformat_minor": 2
}
