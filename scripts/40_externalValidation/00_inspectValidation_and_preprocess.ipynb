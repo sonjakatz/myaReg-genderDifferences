{
 "cells": [
  {
   "cell_type": "markdown",
   "metadata": {},
   "source": [
    "# Explore and preprocesss validation data\n",
    "\n",
    "- results in translation of PerMIT to RKZ variables: `data/discovery_validation_variables_translation.json`\n",
    "- align variables to german myaReg to enable validation of model"
   ]
  },
  {
   "cell_type": "code",
   "execution_count": 1,
   "metadata": {},
   "outputs": [],
   "source": [
    "import os\n",
    "import pandas as pd\n",
    "import numpy as np\n",
    "import matplotlib.pyplot as plt\n",
    "import seaborn as sns\n",
    "import pickle\n",
    "sns.set_theme(style=\"whitegrid\", font_scale=1.3, context=\"paper\")\n",
    "\n",
    "from sklearn.preprocessing import MinMaxScaler\n",
    "\n",
    "PATH_base = \"/home/WUR/katz001/PROJECTS/myaReg-genderDifferences\""
   ]
  },
  {
   "cell_type": "code",
   "execution_count": 4,
   "metadata": {},
   "outputs": [
    {
     "data": {
      "text/plain": [
       "(419, 38)"
      ]
     },
     "execution_count": 4,
     "metadata": {},
     "output_type": "execute_result"
    }
   ],
   "source": [
    "data = pd.read_csv(f\"{PATH_base}/data/validation/Dutch MG patients V2.csv\", sep=\";\",decimal=\",\", index_col=0)\n",
    "\n",
    "data.shape"
   ]
  },
  {
   "cell_type": "markdown",
   "metadata": {},
   "source": [
    "## Inverse gender (1=female, 0=male)\n",
    "\n",
    "Original: 1=male, 2=female\n",
    "\n",
    "- `gender`: \n",
    "    - 1: male\n",
    "    - 2: female"
   ]
  },
  {
   "cell_type": "code",
   "execution_count": 4,
   "metadata": {},
   "outputs": [],
   "source": [
    "dic_gender = {1:0, \n",
    "              2:1}\n",
    "\n",
    "data[\"gender\"] = data[\"gender\"].replace(dic_gender)\n"
   ]
  },
  {
   "cell_type": "markdown",
   "metadata": {},
   "source": [
    "# Create new achrak subgroup from `MGsubgroup_inclPATreported`\n",
    "\n",
    "- new binary variable `MGsubgroup_inclPATreported_achrak`:\n",
    "    - -1: 0\n",
    "    - 1: 1\n",
    "    - 2: 0\n",
    "    - 3: 0\n",
    "    - 8: np.nan\n",
    "\n",
    "\n",
    "- `MGsubgroup_inclPATreported`:\n",
    "    - -1: MG SN\n",
    "    - 1: MG achrak\n",
    "    - 2: MG MUSK\n",
    "    - 3: MG LRP4\n",
    "    - 8: MG unkown AB"
   ]
  },
  {
   "cell_type": "code",
   "execution_count": 5,
   "metadata": {},
   "outputs": [],
   "source": [
    "dic_achrak = {\n",
    "    -1: 0,\n",
    "    1: 1,\n",
    "    2: 0,\n",
    "    3: 0,\n",
    "    8: np.nan\n",
    "}"
   ]
  },
  {
   "cell_type": "code",
   "execution_count": 6,
   "metadata": {},
   "outputs": [
    {
     "data": {
      "text/plain": [
       "MGsubgroup_inclPATreported\n",
       " 1    304\n",
       "-1     54\n",
       " 8     46\n",
       " 2     14\n",
       " 3      1\n",
       "Name: count, dtype: int64"
      ]
     },
     "execution_count": 6,
     "metadata": {},
     "output_type": "execute_result"
    }
   ],
   "source": [
    "data['MGsubgroup_inclPATreported'].value_counts()"
   ]
  },
  {
   "cell_type": "code",
   "execution_count": 7,
   "metadata": {},
   "outputs": [
    {
     "data": {
      "text/plain": [
       "MGsubgroup_inclPATreported_achrak\n",
       "1.0    304\n",
       "0.0     69\n",
       "Name: count, dtype: int64"
      ]
     },
     "execution_count": 7,
     "metadata": {},
     "output_type": "execute_result"
    }
   ],
   "source": [
    "data['MGsubgroup_inclPATreported_achrak'] = data['MGsubgroup_inclPATreported'].copy()\n",
    "data['MGsubgroup_inclPATreported_achrak'].replace(dic_achrak, inplace=True)\n",
    "data['MGsubgroup_inclPATreported_achrak'].value_counts()\n"
   ]
  },
  {
   "cell_type": "markdown",
   "metadata": {},
   "source": [
    "# Update missing -999 as `np.nan`"
   ]
  },
  {
   "cell_type": "code",
   "execution_count": 8,
   "metadata": {},
   "outputs": [],
   "source": [
    "data.replace(-999, np.nan, inplace=True)\n",
    "data.replace(\" \", np.nan, inplace=True)"
   ]
  },
  {
   "cell_type": "markdown",
   "metadata": {},
   "source": [
    "# New depression score for validation: HADSd + HADSa"
   ]
  },
  {
   "cell_type": "code",
   "execution_count": 9,
   "metadata": {},
   "outputs": [],
   "source": [
    "data['HADS_comb'] = data['HADSd'] + data['HADSa']"
   ]
  },
  {
   "cell_type": "markdown",
   "metadata": {},
   "source": [
    "# Normalisation of Chronic Fatigue \n",
    "\n",
    "minmax --> max = 56; min = 8\n"
   ]
  },
  {
   "cell_type": "code",
   "execution_count": 10,
   "metadata": {},
   "outputs": [
    {
     "data": {
      "text/plain": [
       "IDAA\n",
       "2193    48\n",
       "2056    12\n",
       "2211    56\n",
       "2234    31\n",
       "1986     9\n",
       "        ..\n",
       "1996    42\n",
       "2098    43\n",
       "2307    35\n",
       "2358    40\n",
       "2402    33\n",
       "Name: CISfatigue, Length: 419, dtype: int64"
      ]
     },
     "execution_count": 10,
     "metadata": {},
     "output_type": "execute_result"
    }
   ],
   "source": [
    "data[\"CISfatigue\"]"
   ]
  },
  {
   "cell_type": "code",
   "execution_count": 11,
   "metadata": {},
   "outputs": [],
   "source": [
    "scaler = MinMaxScaler(feature_range=(0,1))\n",
    "cis_normalised = scaler.fit_transform(data.loc[:,\"CISfatigue\":\"CISfatigue\"])\n",
    "\n",
    "### Save scaler as pickle for inverse transform later\n",
    "with open(f\"{PATH_base}/data/validation/CF_minmaxScaler.pkl\", \"wb\") as f:\n",
    "    pickle.dump(scaler, f)"
   ]
  },
  {
   "cell_type": "code",
   "execution_count": 26,
   "metadata": {},
   "outputs": [],
   "source": [
    "data[\"CISfatigue_minmax\"] = cis_normalised"
   ]
  },
  {
   "cell_type": "markdown",
   "metadata": {},
   "source": [
    "# Update binary categories for: \n",
    "\n",
    "- achr-ak (original: 1=yes, 2=no, 3=uncertain)\n",
    "- thymectomy (original: 1=yes, 2=no)"
   ]
  },
  {
   "cell_type": "code",
   "execution_count": 27,
   "metadata": {},
   "outputs": [
    {
     "data": {
      "text/plain": [
       "QantiACHR\n",
       "1.0    178\n",
       "3.0    165\n",
       "2.0     56\n",
       "Name: count, dtype: int64"
      ]
     },
     "execution_count": 27,
     "metadata": {},
     "output_type": "execute_result"
    }
   ],
   "source": [
    "data[\"QantiACHR\"].value_counts()"
   ]
  },
  {
   "cell_type": "code",
   "execution_count": 28,
   "metadata": {},
   "outputs": [],
   "source": [
    "dic_tmp = {1:1, \n",
    "           2:0,\n",
    "           3:np.nan}\n",
    "\n",
    "data[\"QantiACHR\"] = data[\"QantiACHR\"].replace(dic_tmp)\n",
    "data[\"Thymectomy\"] = data[\"Thymectomy\"].replace(dic_tmp)\n",
    "data[\"QantiMUSK\"] = data[\"QantiMUSK\"].replace(dic_tmp)"
   ]
  },
  {
   "cell_type": "markdown",
   "metadata": {},
   "source": [
    "# Remove BMI  "
   ]
  },
  {
   "cell_type": "code",
   "execution_count": 29,
   "metadata": {},
   "outputs": [],
   "source": [
    "data.drop([\"BMI\"], axis=1, inplace=True)"
   ]
  },
  {
   "cell_type": "markdown",
   "metadata": {},
   "source": [
    "# Save new dataset"
   ]
  },
  {
   "cell_type": "code",
   "execution_count": 30,
   "metadata": {},
   "outputs": [],
   "source": [
    "data.to_csv(f\"{PATH_base}/data/validation/dutch_MG_patients_V2_recoded.csv\")"
   ]
  }
 ],
 "metadata": {
  "kernelspec": {
   "display_name": "env_permit",
   "language": "python",
   "name": "python3"
  },
  "language_info": {
   "codemirror_mode": {
    "name": "ipython",
    "version": 3
   },
   "file_extension": ".py",
   "mimetype": "text/x-python",
   "name": "python",
   "nbconvert_exporter": "python",
   "pygments_lexer": "ipython3",
   "version": "3.10.13"
  }
 },
 "nbformat": 4,
 "nbformat_minor": 2
}
